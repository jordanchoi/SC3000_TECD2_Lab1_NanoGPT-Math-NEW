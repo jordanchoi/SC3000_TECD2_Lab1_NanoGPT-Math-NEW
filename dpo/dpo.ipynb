{
 "cells": [
  {
   "cell_type": "markdown",
   "id": "01edb185",
   "metadata": {},
   "source": [
    "## <u>Contributions :</u>\n",
    "\n",
    "Mabel Choi Jingyi\n",
    "- Generate postive-negative pairs\n",
    "- Building Data Loading Codes\n",
    "- Building Optimiser & Scheduler Codes\n",
    "- Formatting of Jupyter Notebook\n",
    "\n",
    "Choi Shu Yih, Jordan\n",
    "- Generate postive-negative pairs\n",
    "- Building Model Training Codes\n",
    "- Optimising and finetuning hyperparamters\n",
    "- Training the model\n",
    "\n",
    "Koh Tzi Yang\n",
    "- Generate postive-negative pairs\n",
    "- Building Test Codes\n",
    "- Formatting of Jupyter Notebook\n",
    "- Rerunning code cells\n"
   ]
  },
  {
   "cell_type": "markdown",
   "id": "124a869a",
   "metadata": {
    "id": "124a869a"
   },
   "source": [
    "## <u>Step 1: Install Necesscary Packages and Setting up Environment</u>\n",
    "This step (installing necessary packages) is required as this will ensure that all required and relevant Python Libraries and Packages are ready and installed in the environment for running the DPO training."
   ]
  },
  {
   "cell_type": "markdown",
   "id": "98343b83",
   "metadata": {},
   "source": [
    "### <u>Step 1.1: Allow Google Drive Access to Google Collab Environment</u>\n",
    "\n",
    "Since our own computational resources are not good enough for the training of this NanoGPT model, we made use of Google Collab, which offers free access to powerful hardware resources and real-time collaboration, which are crucial for accelerating the task of training the NanoGPT model. "
   ]
  },
  {
   "cell_type": "code",
   "execution_count": null,
   "id": "sLcgPb9WFNYf",
   "metadata": {
    "colab": {
     "base_uri": "https://localhost:8080/"
    },
    "executionInfo": {
     "elapsed": 21063,
     "status": "ok",
     "timestamp": 1760969156676,
     "user": {
      "displayName": "Jordan Choi",
      "userId": "16495390488022399426"
     },
     "user_tz": -480
    },
    "id": "sLcgPb9WFNYf",
    "outputId": "0f52df1b-6699-40c6-8b59-7e530d1c2b5e"
   },
   "outputs": [
    {
     "name": "stdout",
     "output_type": "stream",
     "text": [
      "Mounted at /content/drive\n"
     ]
    }
   ],
   "source": [
    "### Mount Google Drive to the Google Collab environment ###\n",
    "\n",
    "# This step is necessary as it will ensure that the notebook has read and write access to the \\\n",
    "# Google Drive containing the project's assets\n",
    "# - Load the dataset file and the pre-trained NanoGPT weights and checkpoints\n",
    "# - Save and reload the DPO's fine-tuned checkpoints (dpo.pt with model weights)\n",
    "\n",
    "# Successful mounting will resulted in a \"Mounted at /content/drive\" output\n",
    "from google.colab import drive\n",
    "drive.mount('/content/drive')"
   ]
  },
  {
   "cell_type": "markdown",
   "id": "3d2e8f4e",
   "metadata": {},
   "source": [
    "### <u>Step 1.2: Install Relevant Packages</u>\n",
    "\n",
    "For this step, we will be installing the necessary Python Packages that will be able to allow us to achieve different tasks:\n",
    "- _**matplotlib**_: For data visualisation and plotting the training metrics\n",
    "- _**torch**_: PyTorch's deep learning framework for model training\n",
    "- _**numpy**_: Numerical computing library\n",
    "- _**transformers**_: Used for tokenisation utilities\n",
    "- _**datasets**_: Used for data loading and processing\n",
    "- _**tiktoken**_: Tokenisation library\n",
    "- _**wandb**_: Weights and biases, used for experiment tracking\n",
    "- _**tqdm**_: Progress bar library, used for monitoring training loops"
   ]
  },
  {
   "cell_type": "code",
   "execution_count": null,
   "id": "3b82f8f1",
   "metadata": {
    "colab": {
     "base_uri": "https://localhost:8080/"
    },
    "executionInfo": {
     "elapsed": 8031,
     "status": "ok",
     "timestamp": 1760890457913,
     "user": {
      "displayName": "Jordan Choi",
      "userId": "16495390488022399426"
     },
     "user_tz": -480
    },
    "id": "3b82f8f1",
    "outputId": "04e21e86-cbe6-4e10-9599-761bb512c752"
   },
   "outputs": [
    {
     "name": "stdout",
     "output_type": "stream",
     "text": [
      "Requirement already satisfied: matplotlib in /usr/local/lib/python3.12/dist-packages (3.10.0)\n",
      "Requirement already satisfied: contourpy>=1.0.1 in /usr/local/lib/python3.12/dist-packages (from matplotlib) (1.3.3)\n",
      "Requirement already satisfied: cycler>=0.10 in /usr/local/lib/python3.12/dist-packages (from matplotlib) (0.12.1)\n",
      "Requirement already satisfied: fonttools>=4.22.0 in /usr/local/lib/python3.12/dist-packages (from matplotlib) (4.60.1)\n",
      "Requirement already satisfied: kiwisolver>=1.3.1 in /usr/local/lib/python3.12/dist-packages (from matplotlib) (1.4.9)\n",
      "Requirement already satisfied: numpy>=1.23 in /usr/local/lib/python3.12/dist-packages (from matplotlib) (2.0.2)\n",
      "Requirement already satisfied: packaging>=20.0 in /usr/local/lib/python3.12/dist-packages (from matplotlib) (25.0)\n",
      "Requirement already satisfied: pillow>=8 in /usr/local/lib/python3.12/dist-packages (from matplotlib) (11.3.0)\n",
      "Requirement already satisfied: pyparsing>=2.3.1 in /usr/local/lib/python3.12/dist-packages (from matplotlib) (3.2.5)\n",
      "Requirement already satisfied: python-dateutil>=2.7 in /usr/local/lib/python3.12/dist-packages (from matplotlib) (2.9.0.post0)\n",
      "Requirement already satisfied: six>=1.5 in /usr/local/lib/python3.12/dist-packages (from python-dateutil>=2.7->matplotlib) (1.17.0)\n",
      "Requirement already satisfied: torch in /usr/local/lib/python3.12/dist-packages (2.6.0+cu124)\n",
      "Requirement already satisfied: numpy in /usr/local/lib/python3.12/dist-packages (2.0.2)\n",
      "Requirement already satisfied: transformers in /usr/local/lib/python3.12/dist-packages (4.57.1)\n",
      "Requirement already satisfied: datasets in /usr/local/lib/python3.12/dist-packages (4.0.0)\n",
      "Requirement already satisfied: tiktoken in /usr/local/lib/python3.12/dist-packages (0.12.0)\n",
      "Requirement already satisfied: wandb in /usr/local/lib/python3.12/dist-packages (0.22.2)\n",
      "Requirement already satisfied: tqdm in /usr/local/lib/python3.12/dist-packages (4.67.1)\n",
      "Requirement already satisfied: filelock in /usr/local/lib/python3.12/dist-packages (from torch) (3.20.0)\n",
      "Requirement already satisfied: typing-extensions>=4.10.0 in /usr/local/lib/python3.12/dist-packages (from torch) (4.15.0)\n",
      "Requirement already satisfied: networkx in /usr/local/lib/python3.12/dist-packages (from torch) (3.5)\n",
      "Requirement already satisfied: jinja2 in /usr/local/lib/python3.12/dist-packages (from torch) (3.1.6)\n",
      "Requirement already satisfied: fsspec in /usr/local/lib/python3.12/dist-packages (from torch) (2025.3.0)\n",
      "Requirement already satisfied: nvidia-cuda-nvrtc-cu12==12.4.127 in /usr/local/lib/python3.12/dist-packages (from torch) (12.4.127)\n",
      "Requirement already satisfied: nvidia-cuda-runtime-cu12==12.4.127 in /usr/local/lib/python3.12/dist-packages (from torch) (12.4.127)\n",
      "Requirement already satisfied: nvidia-cuda-cupti-cu12==12.4.127 in /usr/local/lib/python3.12/dist-packages (from torch) (12.4.127)\n",
      "Requirement already satisfied: nvidia-cudnn-cu12==9.1.0.70 in /usr/local/lib/python3.12/dist-packages (from torch) (9.1.0.70)\n",
      "Requirement already satisfied: nvidia-cublas-cu12==12.4.5.8 in /usr/local/lib/python3.12/dist-packages (from torch) (12.4.5.8)\n",
      "Requirement already satisfied: nvidia-cufft-cu12==11.2.1.3 in /usr/local/lib/python3.12/dist-packages (from torch) (11.2.1.3)\n",
      "Requirement already satisfied: nvidia-curand-cu12==10.3.5.147 in /usr/local/lib/python3.12/dist-packages (from torch) (10.3.5.147)\n",
      "Requirement already satisfied: nvidia-cusolver-cu12==11.6.1.9 in /usr/local/lib/python3.12/dist-packages (from torch) (11.6.1.9)\n",
      "Requirement already satisfied: nvidia-cusparse-cu12==12.3.1.170 in /usr/local/lib/python3.12/dist-packages (from torch) (12.3.1.170)\n",
      "Requirement already satisfied: nvidia-cusparselt-cu12==0.6.2 in /usr/local/lib/python3.12/dist-packages (from torch) (0.6.2)\n",
      "Requirement already satisfied: nvidia-nccl-cu12==2.21.5 in /usr/local/lib/python3.12/dist-packages (from torch) (2.21.5)\n",
      "Requirement already satisfied: nvidia-nvtx-cu12==12.4.127 in /usr/local/lib/python3.12/dist-packages (from torch) (12.4.127)\n",
      "Requirement already satisfied: nvidia-nvjitlink-cu12==12.4.127 in /usr/local/lib/python3.12/dist-packages (from torch) (12.4.127)\n",
      "Requirement already satisfied: triton==3.2.0 in /usr/local/lib/python3.12/dist-packages (from torch) (3.2.0)\n",
      "Requirement already satisfied: setuptools in /usr/local/lib/python3.12/dist-packages (from torch) (75.2.0)\n",
      "Requirement already satisfied: sympy==1.13.1 in /usr/local/lib/python3.12/dist-packages (from torch) (1.13.1)\n",
      "Requirement already satisfied: mpmath<1.4,>=1.1.0 in /usr/local/lib/python3.12/dist-packages (from sympy==1.13.1->torch) (1.3.0)\n",
      "\u001b[31mERROR: Operation cancelled by user\u001b[0m\u001b[31m\n",
      "\u001b[0m"
     ]
    }
   ],
   "source": [
    "!pip install matplotlib\n",
    "!pip install torch numpy transformers datasets tiktoken wandb tqdm\n",
    "#%pip uninstall -y torch torchvision torchaudio\n",
    "#%pip install --index-url https://download.pytorch.org/whl/cu124 torch torchvision torchaudio"
   ]
  },
  {
   "cell_type": "markdown",
   "id": "6c2d9de0",
   "metadata": {
    "id": "6c2d9de0"
   },
   "source": [
    "## <u>Step 2: Package Imports and Configuration</u>\n",
    "\n",
    "This step (Package Imports and Configuration) is necessary as loading the packages to be used is required for usage of the packages. Additionally, setting up and configurating the hyperparameters were also necessary for the DPO training process."
   ]
  },
  {
   "cell_type": "markdown",
   "id": "0400faf5",
   "metadata": {},
   "source": [
    "### <u>Step 2.1: Confirming Configuration</u>\n",
    "\n",
    "This step is necessary as we would need to confirm that we have the necessary computational power, and make sure that we are in the correct working directory and make sure that we have all the necessary packages imported before we can start with the model training."
   ]
  },
  {
   "cell_type": "code",
   "execution_count": null,
   "id": "NbTXSh70LV6i",
   "metadata": {
    "colab": {
     "base_uri": "https://localhost:8080/"
    },
    "executionInfo": {
     "elapsed": 206,
     "status": "ok",
     "timestamp": 1760974302547,
     "user": {
      "displayName": "Jordan Choi",
      "userId": "16495390488022399426"
     },
     "user_tz": -480
    },
    "id": "NbTXSh70LV6i",
    "outputId": "7e0da8c4-d7b9-4692-efed-1e7c59fdcd4e"
   },
   "outputs": [
    {
     "name": "stdout",
     "output_type": "stream",
     "text": [
      "Mon Oct 20 15:31:42 2025       \n",
      "+-----------------------------------------------------------------------------------------+\n",
      "| NVIDIA-SMI 550.54.15              Driver Version: 550.54.15      CUDA Version: 12.4     |\n",
      "|-----------------------------------------+------------------------+----------------------+\n",
      "| GPU  Name                 Persistence-M | Bus-Id          Disp.A | Volatile Uncorr. ECC |\n",
      "| Fan  Temp   Perf          Pwr:Usage/Cap |           Memory-Usage | GPU-Util  Compute M. |\n",
      "|                                         |                        |               MIG M. |\n",
      "|=========================================+========================+======================|\n",
      "|   0  NVIDIA A100-SXM4-80GB          Off |   00000000:00:05.0 Off |                    0 |\n",
      "| N/A   34C    P0             63W /  400W |    3093MiB /  81920MiB |      0%      Default |\n",
      "|                                         |                        |             Disabled |\n",
      "+-----------------------------------------+------------------------+----------------------+\n",
      "                                                                                         \n",
      "+-----------------------------------------------------------------------------------------+\n",
      "| Processes:                                                                              |\n",
      "|  GPU   GI   CI        PID   Type   Process name                              GPU Memory |\n",
      "|        ID   ID                                                               Usage      |\n",
      "|=========================================================================================|\n",
      "+-----------------------------------------------------------------------------------------+\n"
     ]
    }
   ],
   "source": [
    "### GPU Verification ###\n",
    "# This step will allow us to display and view information about the available GPU\n",
    "# - Information regarding the GPU's model and driver version, etc\n",
    "# - This will also let us know if Google Collab is able to provide us with the computational power \\\n",
    "# needed for the NanoGPT model training\n",
    "\n",
    "!nvidia-smi"
   ]
  },
  {
   "cell_type": "markdown",
   "id": "b3413c68",
   "metadata": {},
   "source": [
    "Based on the output that was returned above, from querying for the resources available in the Google Collab notebook, we can confirm that a Nvidia GPU with CUDA 12.4 is available, thus, providing the sufficient computational power that we need for training the NanoGPT model."
   ]
  },
  {
   "cell_type": "code",
   "execution_count": null,
   "id": "IILc28EVLZNX",
   "metadata": {
    "colab": {
     "base_uri": "https://localhost:8080/"
    },
    "executionInfo": {
     "elapsed": 210,
     "status": "ok",
     "timestamp": 1760974304749,
     "user": {
      "displayName": "Jordan Choi",
      "userId": "16495390488022399426"
     },
     "user_tz": -480
    },
    "id": "IILc28EVLZNX",
    "outputId": "80405f9a-57e2-4162-e854-7532f2470671"
   },
   "outputs": [
    {
     "name": "stdout",
     "output_type": "stream",
     "text": [
      "configurator.py  data  dpo  model.py  __pycache__  README.md  sft\n",
      "/content/drive/MyDrive/Colab Notebooks/Lab-1 NEW/SC3000_TECD2_Lab1_NanoGPT-Math-NEW\n",
      "configurator.py  data  dpo  model.py  __pycache__  README.md  sft\n"
     ]
    }
   ],
   "source": [
    "### Change Directory ###\n",
    "# - This step will also list the contents, thus, allowing us to confirm we are in the correct \\\n",
    "# and relevant directory so the relative paths can resolve. (eg. 'sft/gpt.pt')\n",
    "# - Before proceeding with the actual training portion of the DPO model, we would need to \\\n",
    "# change directory to the folder that contains our dataset and pre-trained NanoGPT model\n",
    "\n",
    "!ls\n",
    "%cd /content/drive/MyDrive/Colab Notebooks/Lab-1 NEW/SC3000_TECD2_Lab1_NanoGPT-Math-NEW\n",
    "!ls"
   ]
  },
  {
   "cell_type": "markdown",
   "id": "46500ae0",
   "metadata": {},
   "source": [
    "Based on the above output that was returned, we can confirm that we are in the correct working directory and we can continue to the next step on importing the required necessary packages."
   ]
  },
  {
   "cell_type": "markdown",
   "id": "5c042afb",
   "metadata": {},
   "source": [
    "### <u>Step 2.2: Importing required necessary packages, Hyperparameter Configuration, and Tokeniser Loading</u>\n",
    "\n",
    "#### Step 2.2.1: Importing Required Packages\n",
    "For the first part of this step, we will need to import the relevant necessary packages to achieve different tasks:\n",
    "- _**PyTorch modules**_: Required for neural network operations\n",
    "- _**Pickle and JSON**_: For data serialisation\n",
    "- _**GPT and GPTConfig**_: Classes from model.py\n",
    "- _**tqdm**_: Progress bar library, used for monitoring training loops\n",
    "- _**matplotlib**_: For data visualisation and plotting the training metrics\n",
    "\n",
    "#### Step 2.2.2: Hyperparameter Configuration\n",
    "This contains the fine-tuning data for the DPO model.\n",
    "- _**beta**_: This is the DPO temperature parameter that controls the strength of preference learning. For beta values, the higher the value the more conservative the learning, whereas, the lower the value the more aggressive the learning.\n",
    "    - For us, we set it to 0.5, as it will be able to provide a good balance for the learning whereby it is aggressive enough to learn the preferences effectively but at the same time it is also not so aggressive whereby it will cause training instability.\n",
    "- _**base lr**_: This is the learning rate that is for the AdamW optimiser\n",
    "    - For us, we set it to 2e-4 = 0.0002, which allows for faster convergence during the DPO model training. Additionally, since we are not completely retraining the model, this learning rate enables efficient adaptation without catastrophic forgetting of the pre-trained weights and knowledge.\n",
    "- _**epochs**_: This refers to the number of complete passing through of the dataset. \n",
    "    - For us, we set the number of epochs to 10 as it will then provide a sufficient training time for the NanoGPT model to learn mathematical reasoning patterns.\n",
    "    - Fewer epochs, such as 3 epochs, might result in incomplete training for the NanoGPT model, while more epochs, such as 20 epochs, might result in overfitting, where the model will memorise the examples rather than generalising it.\n",
    "- _**batch size**_: This refers to the amount of pos-neg data pairs that are processed simultaneously per gradient update.\n",
    "    - For us, we chose this batch size to maximise the GPU's memory utilisation without any overflow.\n",
    "    - This batch size ensures consistent batch statistics across training, and provides a stable gradient estimates, as larger batches might give a noisier gradients.\n",
    "- _**max length**_: This refers to the maximum sequence length for the input sequences. This is because most of our mathematical problems are within the length we have set (64), thus, allowing for efficient batched processing.\n",
    "    - Essentially, every one of our sequence will be set to max 64 in length, whereby the sequences longer than 64 will be truncated, whereas the shorter sequences will be padded with zeros.\n",
    "- _**num samples**_: This refers to the number of response samples to geenrate per prompt during the model's evaluation.\n",
    "    - For us, we set this value to 1, for efficiency during the testing phase.\n",
    "- _**max new tokens**_: This refers to the maximum number of tokens to be generated during inference.\n",
    "    - For us, we set it to 200, as this limit ensures complete answers with explanations included, while preventing infinite loops generation at the same time. \n",
    "- _**temperature**_: This controls the randomness in the text generations.\n",
    "    - Lower temperatures are usually used for deterministic problems, whereby the most likely token is preferred.\n",
    "    - Higher temperatures are usually used for when diverysity is desired, such as creative writing.\n",
    "    - For us, we set the temperature to be 0.1, which is a very low temperature, thus, making the generation highly deterministic and focused. For mathematical problems, we are looking for precise and correct answers, thus, lower temperatures would ensure that the model consistently geenrates the most probable and correct responses.\n",
    "- _**top k**_: This refers to how much of the tokens in the vocabulary are or will be considered during generation. \n",
    "    - For us, we disabled top k sampling, so all of the tokens in the vocabulary are considered during generation.\n",
    "    - For math problems, there is no need to artifically restrict the vocabulary, and together with the low temperature, it already guarantee more or less a focused generation. Thus, we set it to None, so that the model can have full flexibility in choosing the correct mathematical terms, numbers and words used for explanations.\n",
    "\n",
    "#### Step 2.2.3: Tokeniser Loading\n",
    "This tokeniser will load the character-level vocabulary from the pre-trained NanoGPT Model.\n",
    "- _**stoi**_: maps the characters to token IDs\n",
    "- _**itos**_: maps token IDs back to characters\n",
    "- _**encode**_: converts text strings to token ID sequences\n",
    "- _**decode**_: converts token ID sequences back to text strings"
   ]
  },
  {
   "cell_type": "code",
   "execution_count": null,
   "id": "876dd92d",
   "metadata": {
    "colab": {
     "base_uri": "https://localhost:8080/"
    },
    "executionInfo": {
     "elapsed": 147,
     "status": "ok",
     "timestamp": 1760974306008,
     "user": {
      "displayName": "Jordan Choi",
      "userId": "16495390488022399426"
     },
     "user_tz": -480
    },
    "id": "876dd92d",
    "outputId": "486a782c-dd80-4588-cf7f-74b4f146732a"
   },
   "outputs": [
    {
     "name": "stdout",
     "output_type": "stream",
     "text": [
      "cuda\n",
      "torch cuda available: True\n",
      "device count: 1\n",
      "device name: NVIDIA A100-SXM4-80GB\n",
      "tensor on: cuda:0\n"
     ]
    }
   ],
   "source": [
    "### Step 2.2.1 - Importing Required Packages ###\n",
    "import sys\n",
    "import os\n",
    "sys.path.append(os.path.abspath(\"..\"))\n",
    "#os.environ[\"CUDA_VISIBLE_DEVICES\"] = \"0\"\n",
    "import torch\n",
    "import torch.nn as nn\n",
    "import torch.nn.functional as F\n",
    "import pickle\n",
    "import json\n",
    "import random\n",
    "from model import GPT, GPTConfig\n",
    "from tqdm import tqdm\n",
    "import time\n",
    "import matplotlib.pyplot as plt\n",
    "\n",
    "### Step 2.2.2 - Hyperparameter Configuration ###\n",
    "beta = 0.5\n",
    "device = 'cuda' if torch.cuda.is_available() else 'cpu'\n",
    "base_lr = 2e-4\n",
    "epochs = 10\n",
    "batch_size = 64\n",
    "max_length = 64\n",
    "num_samples = 1\n",
    "max_new_tokens = 200\n",
    "temperature = 0.1\n",
    "top_k = None\n",
    "\n",
    "\n",
    "### Checking Available Resource ###\n",
    "# check that there is GPU available and can be used for training in the later step\n",
    "print(device)\n",
    "print(\"torch cuda available:\", torch.cuda.is_available())\n",
    "print(\"device count:\", torch.cuda.device_count())\n",
    "if torch.cuda.is_available():\n",
    "    import subprocess\n",
    "    print(\"device name:\", torch.cuda.get_device_name(0))\n",
    "    x = torch.randn(8192, 8192, device=\"cuda\")\n",
    "    y = x @ x\n",
    "    print(\"tensor on:\", y.device)\n",
    "    subprocess.run([\"nvidia-smi\"])\n",
    "\n",
    "\n",
    "### Step 2.2.3 - Tokeniser Loading ###\n",
    "with open(\"sft/meta.pkl\", \"rb\") as f:\n",
    "    meta = pickle.load(f)\n",
    "stoi, itos = meta[\"stoi\"], meta[\"itos\"]\n",
    "def encode(s): return [stoi[c] for c in s]\n",
    "def decode(l): return ''.join([itos[i] for i in l])"
   ]
  },
  {
   "cell_type": "markdown",
   "id": "4c7d35e6",
   "metadata": {
    "id": "4c7d35e6"
   },
   "source": [
    "## <u>Step 3: Define helper functions</u>"
   ]
  },
  {
   "cell_type": "code",
   "execution_count": 72,
   "id": "d03655c3",
   "metadata": {
    "executionInfo": {
     "elapsed": 3,
     "status": "ok",
     "timestamp": 1760974308871,
     "user": {
      "displayName": "Jordan Choi",
      "userId": "16495390488022399426"
     },
     "user_tz": -480
    },
    "id": "d03655c3"
   },
   "outputs": [],
   "source": [
    "def compute_logprob(input_ids):\n",
    "    inputs = input_ids[:, :-1]\n",
    "    targets = input_ids[:, 1:]\n",
    "    logits, _ = gpt(inputs, full_seq=True)\n",
    "    B, T, V = logits.size()\n",
    "    logits_flat = logits.reshape(-1, V)\n",
    "    targets_flat = targets.reshape(-1)\n",
    "    loss = F.cross_entropy(logits_flat, targets_flat, ignore_index=0, reduction='none')\n",
    "    loss = loss.reshape(B, T)\n",
    "    attention_mask = (targets != 0).float()\n",
    "    loss = (loss * attention_mask).sum(dim=1) / attention_mask.sum(dim=1)\n",
    "    return -loss\n",
    "\n",
    "def pad_or_truncate(seq, max_length):\n",
    "    return seq[-max_length:] if len(seq) > max_length else seq + [0] * (max_length - len(seq))\n",
    "\n",
    "def get_batches(lines, batch_size):\n",
    "    random.shuffle(lines)\n",
    "    #for l in lines:\n",
    "    #    print(l[1])\n",
    "    for i in range(0, len(lines), batch_size):\n",
    "        batch = lines[i:i+batch_size]\n",
    "        if len(batch) < batch_size:\n",
    "            continue\n",
    "        neg_inputs = [pad_or_truncate(encode(p['negative'] + '\\n\\n\\n\\n'), max_length) for p in batch]\n",
    "        pos_inputs = [pad_or_truncate(encode(p['positive'] + '\\n\\n\\n\\n'), max_length) for p in batch]\n",
    "        neg_tensor = torch.tensor(neg_inputs, dtype=torch.long, device=device)\n",
    "        pos_tensor = torch.tensor(pos_inputs, dtype=torch.long, device=device)\n",
    "        yield neg_tensor, pos_tensor"
   ]
  },
  {
   "cell_type": "markdown",
   "id": "fc9d9eba",
   "metadata": {
    "id": "fc9d9eba"
   },
   "source": [
    "## <u>Step 4: Load the pretrained NanoGPT model</u>\n",
    "\n",
    "This step will load the pre-trained NanoGPT model that will serve as the starting point for the DPO model training"
   ]
  },
  {
   "cell_type": "code",
   "execution_count": 73,
   "id": "ceae772a",
   "metadata": {
    "colab": {
     "base_uri": "https://localhost:8080/"
    },
    "executionInfo": {
     "elapsed": 336,
     "status": "ok",
     "timestamp": 1760974310827,
     "user": {
      "displayName": "Jordan Choi",
      "userId": "16495390488022399426"
     },
     "user_tz": -480
    },
    "id": "ceae772a",
    "outputId": "9a5da271-762e-48ed-a633-4eefab133637"
   },
   "outputs": [
    {
     "data": {
      "text/plain": [
       "GPT(\n",
       "  (transformer): ModuleDict(\n",
       "    (wte): Embedding(74, 348)\n",
       "    (wpe): Embedding(256, 348)\n",
       "    (drop): Dropout(p=0.2, inplace=False)\n",
       "    (h): ModuleList(\n",
       "      (0-5): 6 x Block(\n",
       "        (ln_1): LayerNorm()\n",
       "        (attn): CausalSelfAttention(\n",
       "          (c_attn): Linear(in_features=348, out_features=1044, bias=False)\n",
       "          (c_proj): Linear(in_features=348, out_features=348, bias=False)\n",
       "          (attn_dropout): Dropout(p=0.2, inplace=False)\n",
       "          (resid_dropout): Dropout(p=0.2, inplace=False)\n",
       "        )\n",
       "        (ln_2): LayerNorm()\n",
       "        (mlp): MLP(\n",
       "          (c_fc): Linear(in_features=348, out_features=1392, bias=False)\n",
       "          (gelu): GELU(approximate='none')\n",
       "          (c_proj): Linear(in_features=1392, out_features=348, bias=False)\n",
       "          (dropout): Dropout(p=0.2, inplace=False)\n",
       "        )\n",
       "      )\n",
       "    )\n",
       "    (ln_f): LayerNorm()\n",
       "  )\n",
       "  (lm_head): Linear(in_features=348, out_features=74, bias=False)\n",
       ")"
      ]
     },
     "execution_count": 73,
     "metadata": {},
     "output_type": "execute_result"
    }
   ],
   "source": [
    "ckpt = torch.load(\"sft/gpt.pt\", map_location=device)\n",
    "gptconf = GPTConfig(**ckpt['model_args'])\n",
    "gpt = GPT(gptconf)\n",
    "state_dict = ckpt['model']\n",
    "unwanted_prefix = '_orig_mod.'\n",
    "for k in list(state_dict.keys()):\n",
    "    if k.startswith(unwanted_prefix):\n",
    "        state_dict[k[len(unwanted_prefix):]] = state_dict.pop(k)\n",
    "gpt.load_state_dict(state_dict)\n",
    "gpt.to(device).train()"
   ]
  },
  {
   "cell_type": "markdown",
   "id": "0feafc5a",
   "metadata": {
    "id": "0feafc5a"
   },
   "source": [
    "## <u>Step 5: Load Data (**students are required to complete this part!**)</u>\n",
    "\n",
    "In this step, we will generate the dataset consisting of the positive and negative datapairs, and load the dataset as well, which will be used to train the DPO model.\n",
    "\n",
    "This step is crucial as it is the foundation for the DPO model training. We would need to create a large-scale dataset of positive and negative data pairs whereby the positive examples represent the correct mathematical solutions to mathematics problems with explanations, and negative examples represent incorrect or confused response to mathematics problems."
   ]
  },
  {
   "cell_type": "markdown",
   "id": "0f70d94b",
   "metadata": {},
   "source": [
    "### <u>Step 5.1: Dataset Generation</u>\n",
    "\n",
    "For our _**generation of the positive and negative data pairs dataset**_, we initially created a **2-phased approach**.\n",
    "- _**Phase 1**_ would focus on the basic arithmetic and simple linear equations to come up with basic foundational mathematical reasonings\n",
    "- Then _**Phase 2**_ would gradually introduce more complex arithmetic operations\n",
    "\n",
    "This hopefully would be able to help the model to learn basic fundemental mathematical arithmetic patterns first, before tackling the more complex operations; similar to how humans learn math.\n",
    "\n",
    "However, for our final dataset that we used, we decided to turn off the phase 2 dataset generation as the model seemed to learn and perform better with the easier dataset.\n",
    "\n",
    "In this step, we will programmatically build a data pair dataset consisting of 250,000 pairs of positive and negative math data.\n",
    "\n"
   ]
  },
  {
   "cell_type": "code",
   "execution_count": null,
   "id": "7edf3d44",
   "metadata": {
    "colab": {
     "base_uri": "https://localhost:8080/"
    },
    "executionInfo": {
     "elapsed": 2806,
     "status": "ok",
     "timestamp": 1760974315858,
     "user": {
      "displayName": "Jordan Choi",
      "userId": "16495390488022399426"
     },
     "user_tz": -480
    },
    "id": "7edf3d44",
    "outputId": "b65d9e9a-4295-446f-d2a5-270eff0b3419"
   },
   "outputs": [
    {
     "name": "stdout",
     "output_type": "stream",
     "text": [
      "Generated: 250000 pairs\n",
      "Positives passing numeric sanity: 250000/250000\n",
      "Saved ./data/pos_neg_pairs.json\n"
     ]
    }
   ],
   "source": [
    "# Data Pairs Generation\n",
    "# Ensure packages imported\n",
    "import random, json, re\n",
    "\n",
    "\n",
    "### Configuration ###\n",
    "# We generate 250,000 training pairs as this would be large enough for robust learning and generalisation\n",
    "TOTAL = 250000\n",
    "# Seed is used for the reproducibility of datasets\n",
    "SEED = 20251020\n",
    "# Ratios for different Phases\n",
    "RATIOS = {\n",
    "    # Phase 1 ratios\n",
    "    \"arithmetic_1step\": 0.60, # addotion, subtraction, multiplication, division\n",
    "    \"linear_eqn\":       0.40, # solving for x in simple equations\n",
    "\n",
    "    # Phase 2 ratios - turned off due to complexity and model's inability to learn from these expressions\n",
    "    \"expression_2steps\": 0.00,\n",
    "    \"edge_cases\":        0.00,\n",
    "}\n",
    "# Range limits for operands used in dataset\n",
    "A_B_RANGE = (1, 50)     # operands for arithmetic operations - range is small enough to avoid large number challenges and large enough to ensure generalisation, small ranges also helped the model to learn patterns quickly\n",
    "X_K_B_RANGE = (1, 20)   # operands for linear equations - range is small enough to keep algebric problems manageable and prevents complex multi-digit calculations\n",
    "\n",
    "\n",
    "### Helper Functions ###\n",
    "# Arithmetic Generation Function (Phase 1)\n",
    "def gen_arithmetic():\n",
    "    a = random.randint(*A_B_RANGE) # get random operand a\n",
    "    b = random.randint(*A_B_RANGE) # get random operand b\n",
    "    op = random.choice(['+','-','*','/']) # get random operator for a and b; equal probability\n",
    "    \n",
    "    # generate problems\n",
    "    if op == '/':\n",
    "        # only generate division problems with integer results - tokeniser might struggle with decimals\n",
    "        divisors = [d for d in range(1, A_B_RANGE[1]+1) if a % d == 0] # find all divisors of a, and randomly select one of the divisors as b\n",
    "        b = random.choice(divisors) if divisors else 1 # if there is no divisor of a, default to b = 1\n",
    "        ans = a // b # ensure whole number results\n",
    "    elif op == '+': ans = a + b\n",
    "    elif op == '-': ans = a - b\n",
    "    else:           ans = a * b\n",
    "    \n",
    "    # create prompt structure as a standard math question format\n",
    "    prompt = f\"{a}{op}{b}=?\"\n",
    "    # generate positive result with answer from previous section and form as a structured output - model will learn to give reasoning as well during model testing\n",
    "    pos = f\"{prompt} The answer is {ans} because {a}{op}{b} equals {ans}.\"\n",
    "    # generate negative result with wrong answer\n",
    "    if random.random() < 0.5: # based on randomness, generate common miscalculations - stimulates common calculation errors\n",
    "        wrong = ans + random.choice([-3, -2, -1, 1, 2, 3])\n",
    "        neg = f\"{prompt} The answer is {wrong}.\"\n",
    "    else: # still generate a response instead of giving up - like the pre-trained NanoGPT model\n",
    "        neg = f\"{prompt} Sorry, I do not know!\"\n",
    "    \n",
    "    return {\"negative\": neg, \"positive\": pos}\n",
    "\n",
    "# Linear Equation Generation Function (Phase 1)\n",
    "def gen_linear():\n",
    "    # three patterns for linear equations: x+b=c, x-b=c, x*k=c\n",
    "    pat_choice = random.choice([0,1,2]) # get a random choice of pattern; equal probability\n",
    "\n",
    "    # generate problems with positive results\n",
    "    if pat_choice in (0,1): # if pattern choice is 0 or 1, will be a + or - operation\n",
    "        x = random.randint(*X_K_B_RANGE) # get random operand x (ans)\n",
    "        b = random.randint(*X_K_B_RANGE) # get random operand b\n",
    "        if pat_choice == 0: # addition linear equation if choice is 0\n",
    "            c = x + b\n",
    "            prompt = f\"x+{b}={c},x=?\"\n",
    "        else: # subtraction linear equation if choice is 1\n",
    "            c = x - b\n",
    "            prompt = f\"x-{b}={c},x=?\"\n",
    "        ans = x\n",
    "        # generate positive result with answer from previous section and form as a structured output - model will learn to give reasoning as well during model testing\n",
    "        pos = f\"{prompt} The answer is {ans} because {c}{'-' if pat_choice==0 else '+'}{b} equals {ans}.\" # inverse + and -, to find the answer\n",
    "    else: # else it will be a multiplication linear equation if choice is 2\n",
    "        k = random.randint(1, X_K_B_RANGE[1]) # get random operand k\n",
    "        x = random.randint(*X_K_B_RANGE) # get random operand x (ans)\n",
    "        c = k * x\n",
    "        prompt = f\"{k}*x={c},x=?\"\n",
    "        ans = x\n",
    "        # generate positive result with answer from previous section and form as a structured output - model will learn to give reasoning as well during model testing\n",
    "        pos = f\"{prompt} The answer is {ans} because {c}/{k} equals {ans}.\"\n",
    "    \n",
    "    # generate negative result with wrong answer\n",
    "    if random.random() < 0.5: # based on randomness, generate common miscalculations - stimulates common calculation errors\n",
    "        wrong = ans + random.choice([-3,-2,-1,1,2,3])\n",
    "        neg = f\"{prompt} The answer is {wrong}.\"\n",
    "    else: # still generate a response instead of giving up - like the pre-trained NanoGPT model\n",
    "        neg = f\"{prompt} Sorry, I do not know!\"\n",
    "    return {\"negative\": neg, \"positive\": pos}\n",
    "\n",
    "# Phase 2 - This phase will NOT BE USED in our FINAL DATASET as we realised that the model learns better with the basic fundemental mathematical arithmetic patterns\n",
    "# However, we will still go through our logic in implementing these functions\n",
    "# The implementation is not as in-depth as our 'Phase 1' definition implementations as we originally only came up with data pair datasets that gives the correct answers for positive and \"Sorry, I do not know!\" for negative\n",
    "# The implementation for the 'Phase 1' was more in-depth as we wanted to test out the model's capability to learn common errors and not make the same errors\n",
    "# Since the model cannot seem to learn as well from these complex equations, we did not implement more in-depth codes for the 'Phase 2' definition functions\n",
    "# 2 Steps Expression Generation\n",
    "def gen_expression_2steps(): # this function creates expressions that requires knowledge of order of mathematical operations (eg. BODMAS)\n",
    "    a,b,c = [random.randint(1,9) for _ in range(3)] # generate random operands\n",
    "    op1, op2 = random.choice(['+','-','*']), random.choice(['+','-','*']) # generate random operators\n",
    "    prompt = f\"{a}{op1}({b}{op2}{c})=?\" # generate prompts that requires knowledge of order of mathematical operations (eg. BODMAS)\n",
    "    ans = eval(f\"{a}{op1}({b}{op2}{c})\") # evaluate answer with Python's built in function\n",
    "    pos = f\"{prompt} The answer is {ans}.\" # generate positive result\n",
    "    neg = f\"{prompt} Sorry, I do not know!\" # generate negative result\n",
    "    return {\"negative\": neg, \"positive\": pos}\n",
    "# Edge Cases Generation\n",
    "def gen_edge_cases():\n",
    "    # simple negatives only; range is kept small to keep problems manageable\n",
    "    a = random.randint(-20, 20) # generate random operand a\n",
    "    b = random.randint(-20, 20) # generate random operand b\n",
    "    op = random.choice(['+','-','*']) # generate random operator\n",
    "    prompt = f\"{a}{op}{b}=?\" # generate prompt based on random operands and operator, without doing checking if it goes to negative or is 0\n",
    "    ans = eval(f\"{a}{op}{b}\") # evaluate answer with Python's built in function\n",
    "    pos = f\"{prompt} The answer is {ans}.\" # generate positive result\n",
    "    neg = f\"{prompt} Sorry, I do not know!\" # generate negative result\n",
    "    return {\"negative\": neg, \"positive\": pos}\n",
    "\n",
    "# Dataset Building Functions\n",
    "GENS = { \n",
    "    # as named in our ratios for different phases \\\n",
    "    # thus maps category names to generator functions\n",
    "    \"arithmetic_1step\": gen_arithmetic,\n",
    "    \"linear_eqn\": gen_linear,\n",
    "    \"expression_2steps\": gen_expression_2steps,\n",
    "    \"edge_cases\": gen_edge_cases,\n",
    "}\n",
    "def build_dataset(total=TOTAL, ratios=RATIOS):\n",
    "    data = []\n",
    "    # iterate through each of the categories in the different phases and ratios, and calculate total number of examples\n",
    "    for k, r in ratios.items():\n",
    "        n = int(total * r) # set the total number of example to variable n\n",
    "        if n <= 0: continue # if there is no ratio allocated, skip\n",
    "        # append each generated pair to the appropriate generator function, n times\n",
    "        for _ in range(n):\n",
    "            data.append(GENS[k]())\n",
    "    \n",
    "    # then randomise the order of all generated pair (no longer located with same problem types)\n",
    "    random.shuffle(data)\n",
    "    return data\n",
    "\n",
    "# Build the final dataset\n",
    "data = build_dataset()\n",
    "print(f\"Generated: {len(data)} pairs\") # print to check dataset generated correctly\n",
    "\n",
    "\n",
    "### Validation ###\n",
    "# This is done to catch any possible generation bugs during the generation of the data pair dataset\n",
    "# This is done with regular expression pattern matching\n",
    "arith_re = re.compile(r'^(-?\\d+)([+\\-*/])(-?\\d+)=\\?$') # to check if it matches \"number operator number = ?\"\n",
    "lin_add  = re.compile(r'^x\\+(-?\\d+)=(-?\\d+),x=\\?$') # to check if it matches \"x + number = number, x = ?\"\n",
    "lin_sub  = re.compile(r'^x\\-(-?\\d+)=(-?\\d+),x=\\?$') # to check if it matches \"x - number = number, x = ?\"\n",
    "lin_mul  = re.compile(r'^(\\d+)\\*x=(-?\\d+),x=\\?$') # to check if it matches \"number * x = number, x = ?\"\n",
    "\n",
    "# Definition to extract only the question part before the answer\n",
    "def extract_prompt(s):\n",
    "    # get the part before the first space (answer)\n",
    "    return s.split(' ', 1)[0]\n",
    "# Definition to check if positive response actually contain the correct answer\n",
    "def check_positive_record(rec):\n",
    "    s = rec[\"positive\"]\n",
    "    prompt = extract_prompt(s)\n",
    "\n",
    "    # to recalculate the answer given, and compare against the answer in the positive response\n",
    "    m = arith_re.match(prompt)\n",
    "    if m: # if it is arithmetic equation\n",
    "        a, op, b = int(m.group(1)), m.group(2), int(m.group(3))\n",
    "        ans = a+b if op=='+' else a-b if op=='-' else a*b if op=='*' else (a//b)\n",
    "    else: # if it is linear equation\n",
    "        m1 = lin_add.match(prompt)\n",
    "        m2 = lin_sub.match(prompt)\n",
    "        m3 = lin_mul.match(prompt)\n",
    "        if m1:\n",
    "            b, c = int(m1.group(1)), int(m1.group(2))\n",
    "            ans = c - b\n",
    "        elif m2:\n",
    "            b, c = int(m2.group(1)), int(m2.group(2))\n",
    "            ans = c + b\n",
    "        elif m3:\n",
    "            k, c = int(m3.group(1)), int(m3.group(2))\n",
    "            ans = c // k\n",
    "        else:\n",
    "            # Other types are Phase 2, so skip\n",
    "            return True\n",
    "\n",
    "    return f\" {ans}\" in s  # check to see if actual answer exists in the resposne given\n",
    "\n",
    "# Report any bad examples\n",
    "bad = [i for i,rec in enumerate(data) if not check_positive_record(rec)] # this will identify any problematic records\n",
    "# hence print out pass rate of the data pair dataset generated\n",
    "print(f\"Positives passing numeric sanity: {len(data)-len(bad)}/{len(data)}\")\n",
    "# if the pass rate check is less than 100%, it will print out the first 5 bad indices for debugging purposes\n",
    "if bad[:5]: print(\"First 5 bad indices:\", bad[:5])\n",
    "\n",
    "\n",
    "### Save Generated Dataset to File ###\n",
    "import os\n",
    "os.makedirs(\"./data\", exist_ok=True)\n",
    "path = \"./data/pos_neg_pairs.json\"\n",
    "with open(path, \"w\") as f:\n",
    "    json.dump(data, f, indent=2)\n",
    "print(f\"Saved {path}\")"
   ]
  },
  {
   "cell_type": "markdown",
   "id": "f864c1ca",
   "metadata": {},
   "source": [
    "### <u>Step 5.2: Load Data from './data/pos_neg_pairs.json'</u>\n",
    "\n",
    "In this step, we will:\n",
    "- 1. Open the json file and read the dataset file that contains the positive-negative pairs.\n",
    "- 2. Parse the json file contents by converting it from the json format to python's list of dictionaries.\n",
    "- 3. Store all training examples in variable 'lines'.\n",
    "    - Each element in lines is a dictionary with 2 keys:\n",
    "        - 'negative': Incorrect or undesirable response; \"x-7=1,x=? Sorry, I do not know!\"\n",
    "        - 'positive': Correct or human preferred response; \"x-7=1,x=? The answer is 8 because 1+7 equals 8.\""
   ]
  },
  {
   "cell_type": "code",
   "execution_count": null,
   "id": "t_DC5LEkOpuN",
   "metadata": {
    "colab": {
     "base_uri": "https://localhost:8080/"
    },
    "executionInfo": {
     "elapsed": 428,
     "status": "ok",
     "timestamp": 1760974317909,
     "user": {
      "displayName": "Jordan Choi",
      "userId": "16495390488022399426"
     },
     "user_tz": -480
    },
    "id": "t_DC5LEkOpuN",
    "outputId": "fd9f29c2-7a09-4cd9-fdc7-2045fb687632"
   },
   "outputs": [
    {
     "name": "stdout",
     "output_type": "stream",
     "text": [
      "configurator.py  data  dpo  model.py  __pycache__  README.md  sft\n",
      "Loaded 250000 training pairs\n"
     ]
    }
   ],
   "source": [
    "# Check the working directory that we are currently in\n",
    "!ls\n",
    "\n",
    "# Load data from ./data/pos_neg_pairs.json\n",
    "path = \"./data/pos_neg_pairs.json\"\n",
    "with open(path, \"r\", encoding=\"utf-8\") as f:\n",
    "    lines = json.load(f)\n",
    "\n",
    "# Check the number of data pairs in the dataset that has been loaded into 'line'\n",
    "print(f\"Loaded {len(lines)} training pairs\")"
   ]
  },
  {
   "cell_type": "markdown",
   "id": "c2e5f81f",
   "metadata": {
    "id": "c2e5f81f"
   },
   "source": [
    "## <u>Step 6: Build the optimizer and scheduler (**students are required to complete this part!**)</u>\n",
    "\n",
    "This step is crucial as it will configure the optimisation algorithm with selective weight decay and a learning rate schedule with warmup, that is required for stable and effective training of the DPO model."
   ]
  },
  {
   "cell_type": "code",
   "execution_count": null,
   "id": "df0c400f",
   "metadata": {
    "colab": {
     "base_uri": "https://localhost:8080/"
    },
    "executionInfo": {
     "elapsed": 274,
     "status": "ok",
     "timestamp": 1760974326312,
     "user": {
      "displayName": "Jordan Choi",
      "userId": "16495390488022399426"
     },
     "user_tz": -480
    },
    "id": "df0c400f",
    "outputId": "e840bc5f-9d08-49fc-ade6-1bcaf27b7838"
   },
   "outputs": [
    {
     "name": "stdout",
     "output_type": "stream",
     "text": [
      "Optimizer and scheduler ready.\n"
     ]
    }
   ],
   "source": [
    "# Ensure that all necessary imports are done\n",
    "import math\n",
    "from torch.optim import AdamW\n",
    "from torch.optim.lr_scheduler import LambdaLR\n",
    "\n",
    "\"\"\" Referencing to Step 2.2.2 - Hyperparameter Configuration\n",
    "beta = 0.5\n",
    "device = 'cuda' if torch.cuda.is_available() else 'cpu'\n",
    "base_lr = 2e-4\n",
    "epochs = 10\n",
    "batch_size = 64\n",
    "max_length = 64\n",
    "num_samples = 1\n",
    "max_new_tokens = 200\n",
    "temperature = 0.1\n",
    "top_k = None\n",
    "\"\"\"\n",
    "\n",
    "# calculation of batches per epoch; to determine training schedule\n",
    "# since our dataset has 250,000 pairs, this will be 250,000 // 64 ≈ 3906 steps\n",
    "# additionally, having the max() function, also ensures that it will prevent any cases where steps_per_epoch equals to 0\n",
    "steps_per_epoch = max(1, len(lines) // batch_size) \n",
    "\n",
    "# calculation of total gradient updates across all epochs; this is important for learning rate scheduling as well as warmup calculations\n",
    "# since our number of batches/steps per epoch is ≈ 3906 steps, and epochs = 10, the total training steps would be 3906 * 10\n",
    "total_training_steps = steps_per_epoch * epochs\n",
    "\n",
    "# calculation of warmup; this is done by gradually increasing the learning rate from near-zero value to base_lr value, to allow the model to ease into optimisation and prevent early training explosions that can come about with too much data overload at once in the beginning of training\n",
    "# first 5% of training steps is around 1953 steps (5% * 39060)\n",
    "# 5% will allow the training of the model to stabalise, as it is short enough to not waaste time, but sufficiently long enough to stabalise\n",
    "warmup_iters = int(0.05 * total_training_steps)\n",
    "\n",
    "# calculation of total steps needed for the learning rate decay schedule\n",
    "# this is set to decay throughout the entire training of the model\n",
    "# according to best practices, the learning rate decays throughout training, which can be seen from the GPT2 and GPT3 model, so we will follow that approach\n",
    "lr_decay_iters = total_training_steps\n",
    "\n",
    "# calculation of minimum learning rate\n",
    "# this is set to 5% of base learning rate as we do not want the training to completely stop, this also makes the model make smaller adjustments towards the end\n",
    "# 5% * 2e-1 = 0.00001\n",
    "min_lr = base_lr * 0.05\n",
    "\n",
    "# AdamW with proper decay\n",
    "# for this step, we are following GPT2/GPT3's training best practices\n",
    "decay, no_decay = [], [] # no decay = bias and normalisation layers, decay = all other weights\n",
    "for n, p in gpt.named_parameters(): # n = param name, p = param tensor containing the weights\n",
    "    # if params is not updated / trainable during training, skip; we only want to apply weight decay to trainable parameters\n",
    "    if not p.requires_grad: \n",
    "        continue\n",
    "    # if there is bias or layernorm, append to no decay\n",
    "    if n.endswith(\"bias\") or \"ln\" in n.lower() or \"layernorm\" in n.lower(): \n",
    "        no_decay.append(p) # bias and normalisation layers\n",
    "    # if there consists of all other weights, append to decay\n",
    "    else:\n",
    "        decay.append(p) # all other weights\n",
    "\n",
    "# move model to device before creating the optimiser as the optimiser needs to know the parameter device locations\n",
    "gpt.to(device)\n",
    "\n",
    "# Now we move onto creating the AdamW Optimiser\n",
    "optimizer = AdamW(\n",
    "    [{\"params\": decay, \"weight_decay\": 0.1}, # has regularisation, if there is decay; this prevents catastrophic forgetting and maintains the pre-trained knowledge\n",
    "     {\"params\": no_decay, \"weight_decay\": 0.0}], # has no regularisation, if there is no decay\n",
    "    # for the adamw hyperparameters\n",
    "    # for the learning rate, we set it to the same as the base_lr, for faster DPO model adaptation\n",
    "    lr=base_lr,\n",
    "    # for the betas, we follow the standard for transformer models, such as the GPT model\n",
    "    # for the first moment, beta1, it captures gradient direction, so we set 90% of weights to historical gradients, and 10% to current gradients\n",
    "    # for the second moment, beta2, it captures gradient scale, so we set beta2 to 0.999, which is a very slow decay, thus, providing stable and adaptive learning rates\n",
    "    betas=(0.9, 0.999),\n",
    "    # for the epsilon, we set it to the standard 1e-8, which is the standard across deep learning models, since it is small enough to be invisible in normal computation, but large enough to be meaningful in any floating-point arithmetics\n",
    "    eps=1e-8,\n",
    ")\n",
    "\n",
    "# Learning Rate Schedule Function\n",
    "def lr_lambda(step):\n",
    "    # linear warmup - this stabalises early training, by linearly increasing the learning rate from 0 to base_lr\n",
    "    if step < warmup_iters: \n",
    "        return step / max(1, warmup_iters)\n",
    "    \n",
    "    # cosine decay - this ensures smooth and gradual decrease and maintains a higher learning rate for a longer period of time\n",
    "    # cosine decay is also widely used in models like GPT3, which is why we decided to follow this method\n",
    "    progress = (step - warmup_iters) / max(1, lr_decay_iters - warmup_iters)\n",
    "    return max(min_lr / base_lr, 0.5 * (1.0 + math.cos(math.pi * progress))) # this prevents the learning rate from going below the min_lr\n",
    "\n",
    "# creation of the scheduler\n",
    "# the LambdaLR scheduler will apply the custom learning rate function as defined above which will be called after each optimiser step\n",
    "scheduler = torch.optim.lr_scheduler.LambdaLR(optimizer, lr_lambda=lr_lambda)\n",
    "\n",
    "# validate that all of the above steps ran smoothly with no errors\n",
    "print(\"Optimizer and scheduler ready.\")\n",
    "\n",
    "\n",
    "### Tokeniser ###\n",
    "# ensure package imported\n",
    "import pickle\n",
    "# load the vocabulary - char to ID and ID to char mappings\n",
    "with open(\"sft/meta.pkl\",\"rb\") as f:\n",
    "    meta = pickle.load(f)\n",
    "stoi, itos = meta[\"stoi\"], meta[\"itos\"]\n",
    "\n",
    "# get Null chars as padding and falls back to 0 if '\\x00' is not in the vocabulary - consistent padding to ensure predictable behaviour\n",
    "PAD_ID = stoi.get('\\x00', 0)\n",
    "\n",
    "# thus now the encode function can handle out of vocabulary chars gracefully by mapping to the PAD_ID as defined above instead of crashing and giving us an error message\n",
    "def encode(s: str):\n",
    "    return [stoi.get(ch, PAD_ID) for ch in s]\n",
    "\n",
    "def decode(ids):\n",
    "    return ''.join(itos[i] for i in ids)"
   ]
  },
  {
   "cell_type": "markdown",
   "id": "52b66199",
   "metadata": {
    "id": "52b66199"
   },
   "source": [
    "## Step 7: Begin training (**students are required to complete this part!**)"
   ]
  },
  {
   "cell_type": "markdown",
   "id": "21a0a848",
   "metadata": {},
   "source": [
    "### <u>Step 7.1: Training the new model</u>\n",
    "\n",
    "In order to train the model, we would need to compare the _**likelihood of a correct vs wrong answer**_ through the model's mean sequence log-probability at each training step. \n",
    "\n",
    "From there, we can then apply pairwise preference loss. This helps the model learn by replicating preference patterns found in the comparison data we have provided by pushing it to _**score positives > negatives**_. \n",
    "\n",
    "This formula is denoted as follows : \n",
    "<p style=\"text-align:center;\"><em>L<sub>pref</sub> ​= −E[ log σ( <math><mfrac><mn>1</mn><mi>β</mi></mfrac></math>​( logp<sub>θ</sub>​(pos) − logp<sub>θ</sub>​(neg) ) ) ]</em></p>\n",
    "\n",
    "_**E**_ refers to the expectation over the current training batch, and _**β**_ refers to the temperature/margin scale (in this case it is inversed).\n",
    "\n",
    "For optimization, we would use AdamW with stable learning-rate schedule _*(refer to Step 6)*_. \n",
    "\n",
    "For each training step, we would: \n",
    "\n",
    "1. Zero the gradients from previous step \n",
    "2. Backpropagating the loss to compute the new gradients\n",
    "3. Gradient clipping the norm to be 1.0 or below to make it stable\n",
    "4. Use the gradients stored to update the parameters in AdamW\n",
    "5. Adjust the learning rate for the next step based on schedule\n",
    "\n",
    "As we are interested in the training curves, we recorded the loss per step and current LR. This is used for us to plot a graph later on and verify that the schedule and loss behave as expected.\n"
   ]
  },
  {
   "cell_type": "code",
   "execution_count": null,
   "id": "1d4ebeb4",
   "metadata": {
    "colab": {
     "base_uri": "https://localhost:8080/"
    },
    "executionInfo": {
     "elapsed": 1757999,
     "status": "ok",
     "timestamp": 1760976086603,
     "user": {
      "displayName": "Jordan Choi",
      "userId": "16495390488022399426"
     },
     "user_tz": -480
    },
    "id": "1d4ebeb4",
    "outputId": "6d1c2944-77fe-40e5-c925-62a7a3cfd0fa"
   },
   "outputs": [
    {
     "name": "stderr",
     "output_type": "stream",
     "text": [
      "3906it [02:55, 22.20it/s, loss=0.0206]\n"
     ]
    },
    {
     "name": "stdout",
     "output_type": "stream",
     "text": [
      "Saved checkpoint to dpo/dpo.pt\n"
     ]
    },
    {
     "name": "stderr",
     "output_type": "stream",
     "text": [
      "3906it [02:55, 22.22it/s, loss=0.0172]\n"
     ]
    },
    {
     "name": "stdout",
     "output_type": "stream",
     "text": [
      "Saved checkpoint to dpo/dpo.pt\n"
     ]
    },
    {
     "name": "stderr",
     "output_type": "stream",
     "text": [
      "3906it [02:56, 22.17it/s, loss=0.0147]\n"
     ]
    },
    {
     "name": "stdout",
     "output_type": "stream",
     "text": [
      "Saved checkpoint to dpo/dpo.pt\n"
     ]
    },
    {
     "name": "stderr",
     "output_type": "stream",
     "text": [
      "3906it [02:55, 22.23it/s, loss=0.014]\n"
     ]
    },
    {
     "name": "stdout",
     "output_type": "stream",
     "text": [
      "Saved checkpoint to dpo/dpo.pt\n"
     ]
    },
    {
     "name": "stderr",
     "output_type": "stream",
     "text": [
      "3906it [02:55, 22.24it/s, loss=0.0143]\n"
     ]
    },
    {
     "name": "stdout",
     "output_type": "stream",
     "text": [
      "Saved checkpoint to dpo/dpo.pt\n"
     ]
    },
    {
     "name": "stderr",
     "output_type": "stream",
     "text": [
      "3906it [02:55, 22.27it/s, loss=0.0141]\n"
     ]
    },
    {
     "name": "stdout",
     "output_type": "stream",
     "text": [
      "Saved checkpoint to dpo/dpo.pt\n"
     ]
    },
    {
     "name": "stderr",
     "output_type": "stream",
     "text": [
      "3906it [02:55, 22.23it/s, loss=0.0141]\n"
     ]
    },
    {
     "name": "stdout",
     "output_type": "stream",
     "text": [
      "Saved checkpoint to dpo/dpo.pt\n"
     ]
    },
    {
     "name": "stderr",
     "output_type": "stream",
     "text": [
      "3906it [02:55, 22.26it/s, loss=0.014]\n"
     ]
    },
    {
     "name": "stdout",
     "output_type": "stream",
     "text": [
      "Saved checkpoint to dpo/dpo.pt\n"
     ]
    },
    {
     "name": "stderr",
     "output_type": "stream",
     "text": [
      "3906it [02:55, 22.24it/s, loss=0.0138]\n"
     ]
    },
    {
     "name": "stdout",
     "output_type": "stream",
     "text": [
      "Saved checkpoint to dpo/dpo.pt\n"
     ]
    },
    {
     "name": "stderr",
     "output_type": "stream",
     "text": [
      "3906it [02:55, 22.26it/s, loss=0.0139]\n"
     ]
    },
    {
     "name": "stdout",
     "output_type": "stream",
     "text": [
      "Saved checkpoint to dpo/dpo.pt\n"
     ]
    }
   ],
   "source": [
    "total_steps = len(lines) // batch_size\n",
    "\n",
    "# Store the values so that we can look at learning rate and loss later in graph plot\n",
    "loss_history = []\n",
    "lr_history = []\n",
    "\n",
    "for epoch in range(epochs):\n",
    "    pbar = tqdm(get_batches(lines, batch_size))\n",
    "    for step, (neg_tensor,pos_tensor) in enumerate(pbar):\n",
    "        '''\n",
    "        ###########################################################\n",
    "        # Please complete the training code here!\n",
    "        # Examples:\n",
    "        # ...\n",
    "        # neg_logprob\n",
    "        # pos_logprob\n",
    "        # loss = -F.logsigmoid((pos_logprob - neg_logprob) / beta).mean() - pos_logprob.mean() * 0.1\n",
    "        # ...\n",
    "        ###########################################################\n",
    "        '''\n",
    "\n",
    "        # Move tensors to device (makes sure that its the same)\n",
    "        neg_tensor = neg_tensor.to(device)\n",
    "        pos_tensor = pos_tensor.to(device)\n",
    "\n",
    "        # Compute log-probabilities with the helper provided in sample notebook\n",
    "        pos_logprob = compute_logprob(pos_tensor)\n",
    "        neg_logprob = compute_logprob(neg_tensor)\n",
    "\n",
    "        ### DPO pairwise preference loss ###\n",
    "        # What we are looking here for is for pos_logprob > neg_logprob. In this case, the margin is pos - neg.\n",
    "        # When the margin is small or negative, this formula helps to penalise the model\n",
    "        #\n",
    "        loss = -F.logsigmoid((pos_logprob - neg_logprob) / beta).mean() - pos_logprob.mean() * 0.1\n",
    "\n",
    "        ### Record loss per step and current LR ###\n",
    "        # We want to look at learning rate and loss n plot graph, hence we will be storing loss_val and current_lr as the model runs\n",
    "        loss_val = loss.item()\n",
    "        loss_history.append(loss_val)\n",
    "\n",
    "        current_lr = optimizer.param_groups[0]['lr']\n",
    "        lr_history.append(current_lr)\n",
    "\n",
    "        ### Optimising the model ###\n",
    "        # 1. Clear the gradients\n",
    "        optimizer.zero_grad()\n",
    "        # 2. Backpropagate to compute the new gradients\n",
    "        loss.backward()\n",
    "        # 3. Gradient clipping\n",
    "        torch.nn.utils.clip_grad_norm_(gpt.parameters(), 1.0)\n",
    "        # 4. Apply AdamW optimiser\n",
    "        optimizer.step()\n",
    "        # 5. Apply learning rate scheduler\n",
    "        scheduler.step()\n",
    "\n",
    "        # This is used for visual purposes to display the most recent loss, so that we can view in real-time the change in loss as we train the model\n",
    "        loss_val = loss.item()\n",
    "        pbar.set_postfix({\"loss\": loss_val})\n",
    "\n",
    "    # Once an epoch has passed, we save it as a checkpoint to dpo.pt\n",
    "    ckpt_path = f\"dpo.pt\"\n",
    "    torch.save({\n",
    "        \"model_state_dict\": gpt.state_dict(),\n",
    "        \"model_args\": ckpt['model_args'],\n",
    "    }, ckpt_path)\n",
    "    print(f\"Saved checkpoint to {ckpt_path}\")"
   ]
  },
  {
   "cell_type": "markdown",
   "id": "b2349091",
   "metadata": {},
   "source": [
    "### <u>Step 7.2: Plotting</u>\n",
    "\n",
    "Once our model has finished training, we plot a graph to verify that the schedule and loss behave as expected. "
   ]
  },
  {
   "cell_type": "code",
   "execution_count": null,
   "id": "w31jzWWZPHEv",
   "metadata": {
    "colab": {
     "base_uri": "https://localhost:8080/",
     "height": 803
    },
    "executionInfo": {
     "elapsed": 342,
     "status": "ok",
     "timestamp": 1760976117496,
     "user": {
      "displayName": "Jordan Choi",
      "userId": "16495390488022399426"
     },
     "user_tz": -480
    },
    "id": "w31jzWWZPHEv",
    "outputId": "778f26b8-7f8e-4d46-c5f6-dfa82a7fd658"
   },
   "outputs": [
    {
     "data": {
      "image/png": "[encoded data removed]",
      "text/plain": [
       "<Figure size 1000x400 with 1 Axes>"
      ]
     },
     "metadata": {},
     "output_type": "display_data"
    },
    {
     "data": {
      "image/png": "[encoded data removed]",
      "text/plain": [
       "<Figure size 1000x400 with 1 Axes>"
      ]
     },
     "metadata": {},
     "output_type": "display_data"
    }
   ],
   "source": [
    "import matplotlib.pyplot as plt\n",
    "\n",
    "# Plot training loss per step\n",
    "plt.figure(figsize=(10, 4))\n",
    "plt.plot(loss_history, label=\"Loss per batch\")\n",
    "plt.xlabel(\"Training step\")\n",
    "plt.ylabel(\"Loss\")\n",
    "plt.title(\"Training Loss vs Step\")\n",
    "plt.legend()\n",
    "plt.grid(True)\n",
    "plt.show()\n",
    "\n",
    "# Plot learning rate schedule\n",
    "plt.figure(figsize=(10, 4))\n",
    "plt.plot(loss_history, label=\"Learning Rate\")\n",
    "plt.xlabel(\"Training step\")\n",
    "plt.ylabel(\"Learning Rate\")\n",
    "plt.title(\"Learning Rate vs Step\")\n",
    "plt.legend()\n",
    "plt.grid(True)\n",
    "plt.show()\n"
   ]
  },
  {
   "cell_type": "markdown",
   "id": "48b7f2ab",
   "metadata": {
    "id": "48b7f2ab"
   },
   "source": [
    "## Step 8: Begin testing (**students are required to complete this part!**)"
   ]
  },
  {
   "cell_type": "markdown",
   "id": "31f6fa88",
   "metadata": {},
   "source": [
    "#### For Testing, we looped through the following steps : \n",
    "1. Encode the prompt\n",
    "2. Convert to tensor of token IDs\n",
    "3. Run through model\n",
    "4. Decode the output\n",
    "5. Print results\n"
   ]
  },
  {
   "cell_type": "code",
   "execution_count": null,
   "id": "09027262",
   "metadata": {
    "colab": {
     "base_uri": "https://localhost:8080/"
    },
    "executionInfo": {
     "elapsed": 18670,
     "status": "ok",
     "timestamp": 1760976329753,
     "user": {
      "displayName": "Jordan Choi",
      "userId": "16495390488022399426"
     },
     "user_tz": -480
    },
    "id": "09027262",
    "outputId": "d0fd2f1e-a10f-4992-8b52-fc7705f0e232"
   },
   "outputs": [
    {
     "name": "stdout",
     "output_type": "stream",
     "text": [
      "PROMPT : 17+19=?\n",
      "OUTPUT : 17+19=? The answer is 36 because 17+19 equals 36.\n",
      "------------------------------\n",
      "PROMPT : 3*17=?\n",
      "OUTPUT : 3*17=? The answer is 51 because 3*17 equals 51.\n",
      "------------------------------\n",
      "PROMPT : 72/4=?\n",
      "OUTPUT : 72/4=? The answer is 7 because 72/4 equals 7.\n",
      "------------------------------\n",
      "PROMPT : 72-x=34,x=?\n",
      "OUTPUT : 72-x=34,x=? The answer is 16 because 34-7 equals 6.\n",
      "------------------------------\n",
      "PROMPT : x*11=44,x=?\n",
      "OUTPUT : x*11=44,x=? The answer is 4 because 44/11 equals 4.\n",
      "------------------------------\n",
      "PROMPT : 3*17=?\n",
      "OUTPUT : 3*17=? The answer is 51 because 3*17 equals 51.\n",
      "------------------------------\n",
      "PROMPT : 72/4=?\n",
      "OUTPUT : 72/4=? The answer is 7 because 72/4 equals 7.\n",
      "------------------------------\n",
      "PROMPT : 72-x=34,x=?\n",
      "OUTPUT : 72-x=34,x=? The answer is 16 because 34-7 equals 6.\n",
      "------------------------------\n",
      "PROMPT : 8+12=?\n",
      "OUTPUT : 8+12=? The answer is 20 because 8+12 equals 20.\n",
      "------------------------------\n",
      "PROMPT : 50-23=?\n",
      "OUTPUT : 50-23=? The answer is 27 because 50-23 equals 27.\n",
      "------------------------------\n",
      "PROMPT : 9*8=?\n",
      "OUTPUT : 9*8=? The answer is 72 because 9*8 equals 72.\n",
      "------------------------------\n",
      "PROMPT : 81/9=?\n",
      "OUTPUT : 81/9=? The answer is 3 because 81/9 equals 3.\n",
      "------------------------------\n",
      "PROMPT : x+15=30,x=?\n",
      "OUTPUT : x+15=30,x=? The answer is 15 because 30-15 equals 15.\n",
      "------------------------------\n",
      "PROMPT : 7*x=49,x=?\n",
      "OUTPUT : 7*x=49,x=? The answer is 7 because 49/7 equals 7.\n",
      "------------------------------\n",
      "PROMPT : 5*6=?\n",
      "OUTPUT : 5*6=? The answer is 30 because 5*6 equals 30.\n",
      "------------------------------\n",
      "PROMPT : 100/25=?\n",
      "OUTPUT : 100/25=? The answer is 5 because 10/12 equals 55.\n",
      "------------------------------\n",
      "PROMPT : x-7=15,x=?\n",
      "OUTPUT : x-7=15,x=? The answer is 11 because 15+7 equals 11.\n",
      "------------------------------\n",
      "PROMPT : 9+x=20,x=?\n",
      "OUTPUT : 9+x=20,x=? The answer is 11 because 20-9 equals 11.\n",
      "------------------------------\n",
      "PROMPT : 12*12=?\n",
      "OUTPUT : 12*12=? The answer is 144 because 12*12 equals 144.\n",
      "------------------------------\n",
      "PROMPT : 64/8=?\n",
      "OUTPUT : 64/8=? The answer is 3 because 64/8 equals 3.\n",
      "------------------------------\n",
      "PROMPT : x+9=18,x=?\n",
      "OUTPUT : x+9=18,x=? The answer is 9 because 18-9 equals 9.\n",
      "------------------------------\n",
      "PROMPT : 10*10=?\n",
      "OUTPUT : 10*10=? The answer is 100 because 10*10 equals 100.\n",
      "------------------------------\n",
      "PROMPT : 45/5=?\n",
      "OUTPUT : 45/5=? The answer is 9 because 45/5 equals 9.\n",
      "------------------------------\n",
      "PROMPT : x-4=10,x=?\n",
      "OUTPUT : x-4=10,x=? The answer is 14 because 10+4 equals 14.\n",
      "------------------------------\n",
      "PROMPT : x+7=14,x=?\n",
      "OUTPUT : x+7=14,x=? The answer is 7 because 14-7 equals 7.\n",
      "------------------------------\n",
      "PROMPT : 6*7=?\n",
      "OUTPUT : 6*7=? The answer is 42 because 6*7 equals 42.\n",
      "------------------------------\n",
      "PROMPT : 81/9=?\n",
      "OUTPUT : 81/9=? The answer is 3 because 81/9 equals 3.\n",
      "------------------------------\n",
      "PROMPT : x-3=12,x=?\n",
      "OUTPUT : x-3=12,x=? The answer is 15 because 12+3 equals 15.\n",
      "------------------------------\n",
      "PROMPT : 8+x=15,x=?\n",
      "OUTPUT : 8+x=15,x=? The answer is 7 because 15-8 equals 7.\n",
      "------------------------------\n",
      "PROMPT : 14*14=?\n",
      "OUTPUT : 14*14=? The answer is 196 because 14*14 equals 196.\n",
      "------------------------------\n",
      "PROMPT : 72/8=?\n",
      "OUTPUT : 72/8=? The answer is 4 because 72/8 equals 4.\n",
      "------------------------------\n",
      "PROMPT : x+8=16,x=?\n",
      "OUTPUT : x+8=16,x=? The answer is 8 because 16-8 equals 8.\n",
      "------------------------------\n",
      "PROMPT : 9-3=?\n",
      "OUTPUT : 9-3=? The answer is 6 because 9-3 equals 6.\n",
      "------------------------------\n",
      "PROMPT : 15*3=?\n",
      "OUTPUT : 15*3=? The answer is 45 because 15*3 equals 45.\n",
      "------------------------------\n",
      "PROMPT : 81/9=?\n",
      "OUTPUT : 81/9=? The answer is 3 because 81/9 equals 3.\n",
      "------------------------------\n",
      "PROMPT : x-5=10,x=?\n",
      "OUTPUT : x-5=10,x=? The answer is 15 because 10+5 equals 15.\n",
      "------------------------------\n",
      "PROMPT : x+6=13,x=?\n",
      "OUTPUT : x+6=13,x=? The answer is 7 because 13-6 equals 7.\n",
      "------------------------------\n",
      "PROMPT : 11*11=?\n",
      "OUTPUT : 11*11=? The answer is 121 because 11*11 equals 121.\n",
      "------------------------------\n",
      "PROMPT : 56/7=?\n",
      "OUTPUT : 56/7=? The answer is 8 because 56/7 equals 8.\n",
      "------------------------------\n",
      "PROMPT : x+10=20,x=?\n",
      "OUTPUT : x+10=20,x=? The answer is 10 because 20-10 equals 10.\n",
      "------------------------------\n",
      "PROMPT : 7*8=?\n",
      "OUTPUT : 7*8=? The answer is 56 because 7*8 equals 56.\n",
      "------------------------------\n",
      "PROMPT : 90/9=?\n",
      "OUTPUT : 90/9=? The answer is 2 because 90/9 equals 2.\n",
      "------------------------------\n",
      "PROMPT : x-2=8,x=?\n",
      "OUTPUT : x-2=8,x=? The answer is 10 because 8+2 equals 10.\n",
      "------------------------------\n",
      "PROMPT : x+5=12,x=?\n",
      "OUTPUT : x+5=12,x=? The answer is 7 because 12-5 equals 7.\n",
      "------------------------------\n",
      "PROMPT : 13*13=?\n",
      "OUTPUT : 13*13=? The answer is 169 because 13*13 equals 169.\n",
      "------------------------------\n",
      "PROMPT : 72/6=?\n",
      "OUTPUT : 72/6=? The answer is 2 because 72/6 equals 2.\n",
      "------------------------------\n",
      "PROMPT : x-6=14,x=?\n",
      "OUTPUT : x-6=14,x=? The answer is 20 because 14+6 equals 20.\n",
      "------------------------------\n",
      "PROMPT : 4*9=?\n",
      "OUTPUT : 4*9=? The answer is 36 because 4*9 equals 36.\n",
      "------------------------------\n",
      "PROMPT : 81/9=?\n",
      "OUTPUT : 81/9=? The answer is 3 because 81/9 equals 3.\n",
      "------------------------------\n",
      "PROMPT : x+4=10,x=?\n",
      "OUTPUT : x+4=10,x=? The answer is 6 because 10-4 equals 6.\n",
      "------------------------------\n",
      "PROMPT : 8*8=?\n",
      "OUTPUT : 8*8=? The answer is 64 because 8*8 equals 64.\n",
      "------------------------------\n",
      "PROMPT : 60/5=?\n",
      "OUTPUT : 60/5=? The answer is 10 because 60/5 equals 10.\n",
      "------------------------------\n",
      "PROMPT : x-1=9,x=?\n",
      "OUTPUT : x-1=9,x=? The answer is 10 because 9+1 equals 10.\n",
      "------------------------------\n",
      "PROMPT : x+3=11,x=?\n",
      "OUTPUT : x+3=11,x=? The answer is 8 because 11-3 equals 8.\n",
      "------------------------------\n",
      "PROMPT : 9*9=?\n",
      "OUTPUT : 9*9=? The answer is 81 because 9*9 equals 81.\n",
      "------------------------------\n",
      "PROMPT : 49/7=?\n",
      "OUTPUT : 49/7=? The answer is 7 because 49/7 equals 7.\n",
      "------------------------------\n",
      "PROMPT : x-4=11,x=?\n",
      "OUTPUT : x-4=11,x=? The answer is 15 because 11+4 equals 15.\n",
      "------------------------------\n",
      "PROMPT : 6*6=?\n",
      "OUTPUT : 6*6=? The answer is 36 because 6*6 equals 36.\n",
      "------------------------------\n",
      "PROMPT : 100/10=?\n",
      "OUTPUT : 100/10=? The answer is 10 because 10/11 equals 1.\n",
      "------------------------------\n",
      "PROMPT : x+2=12,x=?\n",
      "OUTPUT : x+2=12,x=? The answer is 10 because 12-2 equals 10.\n",
      "------------------------------\n",
      "PROMPT : 15-7=?\n",
      "OUTPUT : 15-7=? The answer is 8 because 15-7 equals 8.\n",
      "------------------------------\n",
      "PROMPT : 8*7=?\n",
      "OUTPUT : 8*7=? The answer is 56 because 8*7 equals 56.\n",
      "------------------------------\n",
      "PROMPT : 72/9=?\n",
      "OUTPUT : 72/9=? The answer is 2 because 72/9 equals 2.\n",
      "------------------------------\n",
      "PROMPT : x-8=12,x=?\n",
      "OUTPUT : x-8=12,x=? The answer is 20 because 12+8 equals 20.\n",
      "------------------------------\n",
      "PROMPT : x+1=10,x=?\n",
      "OUTPUT : x+1=10,x=? The answer is 9 because 10-1 equals 9.\n",
      "------------------------------\n",
      "PROMPT : 14*12=?\n",
      "OUTPUT : 14*12=? The answer is 168 because 14*12 equals 168.\n",
      "------------------------------\n",
      "PROMPT : 54/6=?\n",
      "OUTPUT : 54/6=? The answer is 4 because 54/6 equals 4.\n",
      "------------------------------\n",
      "PROMPT : x-9=11,x=?\n",
      "OUTPUT : x-9=11,x=? The answer is 20 because 11+9 equals 20.\n",
      "------------------------------\n",
      "PROMPT : 5*8=?\n",
      "OUTPUT : 5*8=? The answer is 40 because 5*8 equals 40.\n",
      "------------------------------\n",
      "PROMPT : 81/9=?\n",
      "OUTPUT : 81/9=? The answer is 3 because 81/9 equals 3.\n",
      "------------------------------\n",
      "PROMPT : x+12=20,x=?\n",
      "OUTPUT : x+12=20,x=? The answer is 8 because 20-12 equals 8.\n",
      "------------------------------\n",
      "PROMPT : 7*9=?\n",
      "OUTPUT : 7*9=? The answer is 63 because 7*9 equals 63.\n",
      "------------------------------\n",
      "PROMPT : 80/8=?\n",
      "OUTPUT : 80/8=? The answer is 5 because 80/8 equals 5.\n",
      "------------------------------\n",
      "PROMPT : x-7=13,x=?\n",
      "OUTPUT : x-7=13,x=? The answer is 20 because 13+7 equals 20.\n",
      "------------------------------\n",
      "PROMPT : x+11=22,x=?\n",
      "OUTPUT : x+11=22,x=? The answer is 11 because 22-11 equals 11.\n",
      "------------------------------\n",
      "PROMPT : 12*11=?\n",
      "OUTPUT : 12*11=? The answer is 132 because 12*11 equals 132.\n",
      "------------------------------\n",
      "PROMPT : 63/7=?\n",
      "OUTPUT : 63/7=? The answer is 3 because 63/7 equals 3.\n",
      "------------------------------\n",
      "PROMPT : x-5=15,x=?\n",
      "OUTPUT : x-5=15,x=? The answer is 20 because 15+5 equals 20.\n",
      "------------------------------\n",
      "PROMPT : 9*7=?\n",
      "OUTPUT : 9*7=? The answer is 63 because 9*7 equals 63.\n",
      "------------------------------\n",
      "PROMPT : 90/10=?\n",
      "OUTPUT : 90/10=? The answer is 9 because 90/10 equals 9.\n",
      "------------------------------\n",
      "PROMPT : x+15=25,x=?\n",
      "OUTPUT : x+15=25,x=? The answer is 10 because 25-15 equals 10.\n",
      "------------------------------\n",
      "PROMPT : 6*8=?\n",
      "OUTPUT : 6*8=? The answer is 48 because 6*8 equals 48.\n",
      "------------------------------\n",
      "PROMPT : 72/8=?\n",
      "OUTPUT : 72/8=? The answer is 4 because 72/8 equals 4.\n",
      "------------------------------\n",
      "PROMPT : x-4=16,x=?\n",
      "OUTPUT : x-4=16,x=? The answer is 20 because 16+4 equals 20.\n",
      "------------------------------\n",
      "PROMPT : x+14=28,x=?\n",
      "OUTPUT : x+14=28,x=? The answer is 14 because 28-14 equals 14.\n",
      "------------------------------\n",
      "PROMPT : 11*12=?\n",
      "OUTPUT : 11*12=? The answer is 132 because 11*12 equals 132.\n",
      "------------------------------\n",
      "PROMPT : 48/6=?\n",
      "OUTPUT : 48/6=? The answer is 8 because 48/6 equals 8.\n",
      "------------------------------\n",
      "PROMPT : x-3=13,x=?\n",
      "OUTPUT : x-3=13,x=? The answer is 16 because 13+3 equals 16.\n",
      "------------------------------\n",
      "PROMPT : 4*8=?\n",
      "OUTPUT : 4*8=? The answer is 32 because 4*8 equals 32.\n",
      "------------------------------\n",
      "PROMPT : 56/8=?\n",
      "OUTPUT : 56/8=? The answer is 2 because 56/8 equals 2.\n",
      "------------------------------\n",
      "PROMPT : x+13=26,x=?\n",
      "OUTPUT : x+13=26,x=? The answer is 13 because 26-13 equals 13.\n",
      "------------------------------\n",
      "PROMPT : 10*12=?\n",
      "OUTPUT : 10*12=? The answer is 120 because 10*12 equals 120.\n",
      "------------------------------\n",
      "PROMPT : 70/7=?\n",
      "OUTPUT : 70/7=? The answer is 2 because 70/7 equals 2.\n",
      "------------------------------\n",
      "PROMPT : x-6=18,x=?\n",
      "OUTPUT : x-6=18,x=? The answer is 20 because 18+6 equals 20.\n",
      "------------------------------\n",
      "PROMPT : x+9=19,x=?\n",
      "OUTPUT : x+9=19,x=? The answer is 10 because 19-9 equals 10.\n",
      "------------------------------\n"
     ]
    }
   ],
   "source": [
    "# Load the fine-tuned model\n",
    "ckpt_path = \"dpo.pt\"\n",
    "checkpoint = torch.load(ckpt_path, map_location=device)\n",
    "gptconf = GPTConfig(**checkpoint['model_args'])\n",
    "\n",
    "# Added 'cpu' as potential device as most of us are using Macbook Apple Silicon\n",
    "device = 'cuda' if torch.cuda.is_available() else 'cpu'\n",
    "gpt = GPT(gptconf).to(device)\n",
    "\n",
    "try:\n",
    "    state_dict = checkpoint['model']\n",
    "except:\n",
    "    state_dict = checkpoint['model_state_dict']\n",
    "unwanted_prefix = '_orig_mod.'\n",
    "for k,v in list(state_dict.items()):\n",
    "    if k.startswith(unwanted_prefix):\n",
    "        state_dict[k[len(unwanted_prefix):]] = state_dict.pop(k)\n",
    "gpt.load_state_dict(state_dict)\n",
    "\n",
    "# Test\n",
    "gpt.eval()\n",
    "test_set = [\"17+19=?\", \"3*17=?\", \"72/4=?\", \"72-x=34,x=?\", \"x*11=44,x=?\", \"3*17=?\", \"72/4=?\", \"72-x=34,x=?\", \"8+12=?\", \"50-23=?\", \"9*8=?\", \"81/9=?\", \"x+15=30,x=?\", \"7*x=49,x=?\", \"5*6=?\", \"100/25=?\", \"x-7=15,x=?\", \"9+x=20,x=?\", \"12*12=?\", \"64/8=?\", \"x+9=18,x=?\", \"10*10=?\", \"45/5=?\", \"x-4=10,x=?\", \"x+7=14,x=?\", \"6*7=?\", \"81/9=?\", \"x-3=12,x=?\", \"8+x=15,x=?\", \"14*14=?\", \"72/8=?\", \"x+8=16,x=?\", \"9-3=?\", \"15*3=?\", \"81/9=?\", \"x-5=10,x=?\", \"x+6=13,x=?\", \"11*11=?\", \"56/7=?\", \"x+10=20,x=?\", \"7*8=?\", \"90/9=?\", \"x-2=8,x=?\", \"x+5=12,x=?\", \"13*13=?\", \"72/6=?\", \"x-6=14,x=?\", \"4*9=?\", \"81/9=?\", \"x+4=10,x=?\", \"8*8=?\", \"60/5=?\", \"x-1=9,x=?\", \"x+3=11,x=?\", \"9*9=?\", \"49/7=?\", \"x-4=11,x=?\", \"6*6=?\", \"100/10=?\", \"x+2=12,x=?\", \"15-7=?\", \"8*7=?\", \"72/9=?\", \"x-8=12,x=?\", \"x+1=10,x=?\", \"14*12=?\", \"54/6=?\", \"x-9=11,x=?\", \"5*8=?\", \"81/9=?\", \"x+12=20,x=?\", \"7*9=?\", \"80/8=?\", \"x-7=13,x=?\", \"x+11=22,x=?\", \"12*11=?\", \"63/7=?\", \"x-5=15,x=?\", \"9*7=?\", \"90/10=?\", \"x+15=25,x=?\", \"6*8=?\", \"72/8=?\", \"x-4=16,x=?\", \"x+14=28,x=?\", \"11*12=?\", \"48/6=?\", \"x-3=13,x=?\", \"4*8=?\", \"56/8=?\", \"x+13=26,x=?\", \"10*12=?\", \"70/7=?\", \"x-6=18,x=?\", \"x+9=19,x=?\"]\n",
    "\n",
    "\n",
    "with torch.no_grad():\n",
    "    for prompt in test_set:\n",
    "        prompt_ids = encode(prompt)\n",
    "        '''\n",
    "        # Please complete the test code here!\n",
    "        # ...\n",
    "        # gpt.generate(x, max_new_tokens, temperature=temperature, top_k=top_k)\n",
    "        # ...\n",
    "        '''\n",
    "\n",
    "        # Converts the prompt to a tensor of token IDs based on our tokeniser\n",
    "        x = torch.tensor(prompt_ids, dtype=torch.long, device=device)[None, :]\n",
    "        \n",
    "        # Run through the trained model to generate the resultant tensor values\n",
    "        y = gpt.generate(x, max_new_tokens=max_new_tokens, temperature=temperature,top_k=top_k)\n",
    "\n",
    "        # We will take the tensor of token IDs and flatten it out to prep it for decoding\n",
    "        ans = y[0].reshape(-1).tolist()\n",
    "\n",
    "        # The output will be the decoded token IDs\n",
    "        output = decode(ans)\n",
    "\n",
    "        # Print out the prompt and output respectively\n",
    "        print(f\"PROMPT : {prompt}\")\n",
    "        print(f\"OUTPUT : {output}\")\n",
    "        print(\"-\" * 60)\n",
    "        "
   ]
  },
  {
   "cell_type": "markdown",
   "id": "df813a13",
   "metadata": {},
   "source": [
    "#### For quick testing with text file, follow the steps and just run the cell below :\n",
    "1. Ensure the test case are in a .txt file in the following format :<br>\n",
    "<b>[\"17+19=?\", \"3*17=?\", ... ,\"72/4=?\"]</b><br><br>\n",
    "2. Edit the string_path variable<br><br>\n",
    "3. Run the cell below"
   ]
  },
  {
   "cell_type": "code",
   "execution_count": null,
   "id": "e22b224e",
   "metadata": {},
   "outputs": [],
   "source": [
    "# To be modified\n",
    "string_path = \"\" \n",
    "\n",
    "# No editing required\n",
    "import sys\n",
    "import os\n",
    "import pickle\n",
    "sys.path.append(os.path.abspath(\"..\"))\n",
    "import torch\n",
    "from model import GPT, GPTConfig\n",
    "\n",
    "max_new_tokens = 200\n",
    "temperature = 0.05\n",
    "top_k = None\n",
    "\n",
    "with open(\"../sft/meta.pkl\", \"rb\") as f:\n",
    "    meta = pickle.load(f)\n",
    "stoi, itos = meta[\"stoi\"], meta[\"itos\"]\n",
    "def encode(s): return [stoi[c] for c in s]\n",
    "def decode(l): return ''.join([itos[i] for i in l])\n",
    "\n",
    "device = 'cuda' if torch.cuda.is_available() else 'cpu'\n",
    "ckpt_path = \"dpo.pt\"\n",
    "checkpoint = torch.load(ckpt_path, map_location=device)\n",
    "gptconf = GPTConfig(**checkpoint['model_args'])\n",
    "gpt = GPT(gptconf).to(device)\n",
    "try:\n",
    "    state_dict = checkpoint['model']\n",
    "except:\n",
    "    state_dict = checkpoint['model_state_dict']\n",
    "unwanted_prefix = '_orig_mod.'\n",
    "for k,v in list(state_dict.items()):\n",
    "    if k.startswith(unwanted_prefix):\n",
    "        state_dict[k[len(unwanted_prefix):]] = state_dict.pop(k)\n",
    "gpt.load_state_dict(state_dict)\n",
    "gpt.eval()\n",
    "\n",
    "try:\n",
    "    with open(string_path, \"r\") as file:\n",
    "        priv_set = file.read()\n",
    "        \n",
    "    with torch.no_grad():\n",
    "        for prompt in priv_set:\n",
    "            prompt_ids = encode(prompt)\n",
    "            x = torch.tensor(prompt_ids, dtype=torch.long, device=device)[None, :]\n",
    "            y = gpt.generate(x, max_new_tokens=max_new_tokens, temperature=temperature,top_k=top_k)\n",
    "            ans = y[0].reshape(-1).tolist()\n",
    "            output = decode(ans)\n",
    "\n",
    "            print(f\"PROMPT : {prompt}\")\n",
    "            print(f\"OUTPUT : {output}\")\n",
    "            print(\"-\" * 60)\n",
    "\n",
    "except FileNotFoundError:\n",
    "    print(\"Error : File not found\")\n",
    "except IOError as e:\n",
    "    print(f\"Error : {e}\")\n",
    "        "
   ]
  }
 ],
 "metadata": {
  "accelerator": "GPU",
  "colab": {
   "gpuType": "A100",
   "machine_shape": "hm",
   "provenance": [],
   "toc_visible": true
  },
  "kernelspec": {
   "display_name": "base",
   "language": "python",
   "name": "python3"
  },
  "language_info": {
   "codemirror_mode": {
    "name": "ipython",
    "version": 3
   },
   "file_extension": ".py",
   "mimetype": "text/x-python",
   "name": "python",
   "nbconvert_exporter": "python",
   "pygments_lexer": "ipython3",
   "version": "3.9.7"
  }
 },
 "nbformat": 4,
 "nbformat_minor": 5
}
